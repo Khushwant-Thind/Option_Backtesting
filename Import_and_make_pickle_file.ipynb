{
 "cells": [
  {
   "cell_type": "code",
   "execution_count": null,
   "id": "443d80fc",
   "metadata": {},
   "outputs": [],
   "source": [
    "# Generating all files for the first folder of FNO data (Jan - Jun)"
   ]
  },
  {
   "cell_type": "code",
   "execution_count": 1,
   "id": "33526367",
   "metadata": {},
   "outputs": [],
   "source": [
    "import os\n",
    "import FNO_Creating_Combo_file as FNO\n",
    "os.chdir(r'D:/Option_files_extracted_NIFTY/Jan - Jun/')\n",
    "list_of_files = list(os.listdir())"
   ]
  },
  {
   "cell_type": "code",
   "execution_count": 2,
   "id": "12013fd6",
   "metadata": {},
   "outputs": [],
   "source": [
    "working_directory = os.getcwd()"
   ]
  },
  {
   "cell_type": "code",
   "execution_count": 3,
   "id": "195c371a",
   "metadata": {},
   "outputs": [
    {
     "data": {
      "text/plain": [
       "'D:\\\\Option_files_extracted_NIFTY\\\\Jan - Jun'"
      ]
     },
     "execution_count": 3,
     "metadata": {},
     "output_type": "execute_result"
    }
   ],
   "source": [
    "working_directory"
   ]
  },
  {
   "cell_type": "code",
   "execution_count": 4,
   "id": "93c3a987",
   "metadata": {
    "scrolled": false
   },
   "outputs": [
    {
     "name": "stdout",
     "output_type": "stream",
     "text": [
      "0: Processing file GFDLNFO_BACKADJUSTED_01012021.csv\n",
      "1: Processing file GFDLNFO_BACKADJUSTED_01022021.csv\n",
      "2: Processing file GFDLNFO_BACKADJUSTED_01032021.csv\n",
      "3: Processing file GFDLNFO_BACKADJUSTED_01042021.csv\n",
      "4: Processing file GFDLNFO_BACKADJUSTED_01062021.csv\n",
      "5: Processing file GFDLNFO_BACKADJUSTED_02022021.csv\n",
      "6: Processing file GFDLNFO_BACKADJUSTED_02032021.csv\n",
      "7: Processing file GFDLNFO_BACKADJUSTED_02062021.csv\n",
      "8: Processing file GFDLNFO_BACKADJUSTED_03022021.csv\n",
      "9: Processing file GFDLNFO_BACKADJUSTED_03032021.csv\n",
      "10: Processing file GFDLNFO_BACKADJUSTED_03052021.csv\n",
      "11: Processing file GFDLNFO_BACKADJUSTED_03062021.csv\n",
      "12: Processing file GFDLNFO_BACKADJUSTED_04012021.csv\n",
      "13: Processing file GFDLNFO_BACKADJUSTED_04022021.csv\n",
      "14: Processing file GFDLNFO_BACKADJUSTED_04032021.csv\n",
      "15: Processing file GFDLNFO_BACKADJUSTED_04052021.csv\n",
      "16: Processing file GFDLNFO_BACKADJUSTED_04062021.csv\n",
      "17: Processing file GFDLNFO_BACKADJUSTED_05012021.csv\n",
      "18: Processing file GFDLNFO_BACKADJUSTED_05022021.csv\n",
      "19: Processing file GFDLNFO_BACKADJUSTED_05032021.csv\n",
      "20: Processing file GFDLNFO_BACKADJUSTED_05042021.csv\n",
      "21: Processing file GFDLNFO_BACKADJUSTED_05052021.csv\n",
      "22: Processing file GFDLNFO_BACKADJUSTED_06012021.csv\n",
      "23: Processing file GFDLNFO_BACKADJUSTED_06042021.csv\n",
      "24: Processing file GFDLNFO_BACKADJUSTED_06052021.csv\n",
      "25: Processing file GFDLNFO_BACKADJUSTED_07012021.csv\n",
      "26: Processing file GFDLNFO_BACKADJUSTED_07042021.csv\n",
      "27: Processing file GFDLNFO_BACKADJUSTED_07052021.csv\n",
      "28: Processing file GFDLNFO_BACKADJUSTED_07062021.csv\n",
      "29: Processing file GFDLNFO_BACKADJUSTED_08012021.csv\n",
      "30: Processing file GFDLNFO_BACKADJUSTED_08022021.csv\n",
      "31: Processing file GFDLNFO_BACKADJUSTED_08032021.csv\n",
      "32: Processing file GFDLNFO_BACKADJUSTED_08042021.csv\n",
      "33: Processing file GFDLNFO_BACKADJUSTED_08062021.csv\n",
      "34: Processing file GFDLNFO_BACKADJUSTED_09022021.csv\n",
      "35: Processing file GFDLNFO_BACKADJUSTED_09032021.csv\n",
      "36: Processing file GFDLNFO_BACKADJUSTED_09042021.csv\n",
      "37: Processing file GFDLNFO_BACKADJUSTED_09062021.csv\n",
      "38: Processing file GFDLNFO_BACKADJUSTED_10022021.csv\n",
      "39: Processing file GFDLNFO_BACKADJUSTED_10032021.csv\n",
      "40: Processing file GFDLNFO_BACKADJUSTED_10052021.csv\n",
      "41: Processing file GFDLNFO_BACKADJUSTED_10062021.csv\n",
      "42: Processing file GFDLNFO_BACKADJUSTED_11012021.csv\n",
      "43: Processing file GFDLNFO_BACKADJUSTED_11022021.csv\n",
      "44: Processing file GFDLNFO_BACKADJUSTED_11052021.csv\n",
      "45: Processing file GFDLNFO_BACKADJUSTED_11062021.csv\n",
      "46: Processing file GFDLNFO_BACKADJUSTED_12022021.csv\n",
      "47: Processing file GFDLNFO_BACKADJUSTED_12032021.csv\n",
      "48: Processing file GFDLNFO_BACKADJUSTED_12042021.csv\n",
      "49: Processing file GFDLNFO_BACKADJUSTED_12052021.csv\n",
      "50: Processing file GFDLNFO_BACKADJUSTED_13012021.csv\n",
      "51: Processing file GFDLNFO_BACKADJUSTED_13042021.csv\n",
      "52: Processing file GFDLNFO_BACKADJUSTED_14012021.csv\n",
      "53: Processing file GFDLNFO_BACKADJUSTED_14052021.csv\n",
      "54: Processing file GFDLNFO_BACKADJUSTED_14062021.csv\n",
      "55: Processing file GFDLNFO_BACKADJUSTED_15012021.csv\n",
      "56: Processing file GFDLNFO_BACKADJUSTED_15022021.csv\n",
      "57: Processing file GFDLNFO_BACKADJUSTED_15032021.csv\n",
      "58: Processing file GFDLNFO_BACKADJUSTED_15042021.csv\n",
      "59: Processing file GFDLNFO_BACKADJUSTED_15062021.csv\n",
      "60: Processing file GFDLNFO_BACKADJUSTED_16022021.csv\n",
      "61: Processing file GFDLNFO_BACKADJUSTED_16032021.csv\n",
      "62: Processing file GFDLNFO_BACKADJUSTED_16042021.csv\n",
      "63: Processing file GFDLNFO_BACKADJUSTED_16062021.csv\n",
      "64: Processing file GFDLNFO_BACKADJUSTED_17022021.csv\n",
      "65: Processing file GFDLNFO_BACKADJUSTED_17032021.csv\n",
      "66: Processing file GFDLNFO_BACKADJUSTED_17052021.csv\n",
      "67: Processing file GFDLNFO_BACKADJUSTED_17062021.csv\n",
      "68: Processing file GFDLNFO_BACKADJUSTED_18012021.csv\n",
      "69: Processing file GFDLNFO_BACKADJUSTED_18022021.csv\n",
      "70: Processing file GFDLNFO_BACKADJUSTED_18032021.csv\n",
      "71: Processing file GFDLNFO_BACKADJUSTED_18052021.csv\n",
      "72: Processing file GFDLNFO_BACKADJUSTED_18062021.csv\n",
      "73: Processing file GFDLNFO_BACKADJUSTED_19012021.csv\n",
      "74: Processing file GFDLNFO_BACKADJUSTED_19022021.csv\n",
      "75: Processing file GFDLNFO_BACKADJUSTED_19032021.csv\n",
      "76: Processing file GFDLNFO_BACKADJUSTED_19042021.csv\n",
      "77: Processing file GFDLNFO_BACKADJUSTED_19052021.csv\n",
      "78: Processing file GFDLNFO_BACKADJUSTED_20012021.csv\n",
      "79: Processing file GFDLNFO_BACKADJUSTED_20042021.csv\n",
      "80: Processing file GFDLNFO_BACKADJUSTED_20052021.csv\n",
      "81: Processing file GFDLNFO_BACKADJUSTED_21052021.csv\n",
      "82: Processing file GFDLNFO_BACKADJUSTED_21062021.csv\n",
      "83: Processing file GFDLNFO_BACKADJUSTED_22012021.csv\n",
      "84: Processing file GFDLNFO_BACKADJUSTED_22022021.csv\n",
      "85: Processing file GFDLNFO_BACKADJUSTED_22032021.csv\n",
      "86: Processing file GFDLNFO_BACKADJUSTED_22042021.csv\n",
      "87: Processing file GFDLNFO_BACKADJUSTED_22062021.csv\n",
      "88: Processing file GFDLNFO_BACKADJUSTED_23022021.csv\n",
      "89: Processing file GFDLNFO_BACKADJUSTED_23032021.csv\n",
      "90: Processing file GFDLNFO_BACKADJUSTED_23042021.csv\n",
      "91: Processing file GFDLNFO_BACKADJUSTED_23062021.csv\n",
      "92: Processing file GFDLNFO_BACKADJUSTED_24022021.csv\n",
      "93: Processing file GFDLNFO_BACKADJUSTED_24032021.csv\n",
      "94: Processing file GFDLNFO_BACKADJUSTED_24052021.csv\n",
      "95: Processing file GFDLNFO_BACKADJUSTED_24062021.csv\n",
      "96: Processing file GFDLNFO_BACKADJUSTED_25012021.csv\n",
      "97: Processing file GFDLNFO_BACKADJUSTED_25022021.csv\n",
      "98: Processing file GFDLNFO_BACKADJUSTED_25032021.csv\n",
      "99: Processing file GFDLNFO_BACKADJUSTED_25052021.csv\n",
      "100: Processing file GFDLNFO_BACKADJUSTED_25062021.csv\n",
      "101: Processing file GFDLNFO_BACKADJUSTED_26022021.csv\n",
      "102: Processing file GFDLNFO_BACKADJUSTED_26032021.csv\n",
      "103: Processing file GFDLNFO_BACKADJUSTED_26042021.csv\n",
      "104: Processing file GFDLNFO_BACKADJUSTED_26052021.csv\n",
      "105: Processing file GFDLNFO_BACKADJUSTED_27012021.csv\n",
      "106: Processing file GFDLNFO_BACKADJUSTED_27042021.csv\n",
      "107: Processing file GFDLNFO_BACKADJUSTED_27052021.csv\n",
      "108: Processing file GFDLNFO_BACKADJUSTED_28012021.csv\n",
      "109: Processing file GFDLNFO_BACKADJUSTED_28042021.csv\n",
      "110: Processing file GFDLNFO_BACKADJUSTED_28052021.csv\n",
      "111: Processing file GFDLNFO_BACKADJUSTED_28062021.csv\n",
      "112: Processing file GFDLNFO_BACKADJUSTED_29012021.csv\n",
      "113: Processing file GFDLNFO_BACKADJUSTED_29042021.csv\n",
      "114: Processing file GFDLNFO_BACKADJUSTED_29062021.csv\n",
      "115: Processing file GFDLNFO_BACKADJUSTED_30032021.csv\n",
      "116: Processing file GFDLNFO_BACKADJUSTED_30042021.csv\n",
      "117: Processing file GFDLNFO_BACKADJUSTED_30062021.csv\n",
      "118: Processing file GFDLNFO_BACKADJUSTED_31052021.csv\n",
      "Wall time: 1h 48min 38s\n"
     ]
    }
   ],
   "source": [
    "%%time\n",
    "tracker = 0\n",
    "for f in list_of_files:\n",
    "    print('{}: Processing file {}'.format(tracker,f))\n",
    "    x = FNO.Combined_file(working_directory + '\\\\' + f,\n",
    "                          r'D:/Data_Minute_by_Minute_Nifty/NIFTY 13.04.2022.csv',\n",
    "                          r'D:/Options_combined_with_NiftyValues_and_greeks/Nifty_FNO_')\n",
    "    x.create_pickle_file()\n",
    "    tracker+=1"
   ]
  },
  {
   "cell_type": "code",
   "execution_count": null,
   "id": "a3cc00d1",
   "metadata": {},
   "outputs": [],
   "source": []
  }
 ],
 "metadata": {
  "kernelspec": {
   "display_name": "Python 3 (ipykernel)",
   "language": "python",
   "name": "python3"
  },
  "language_info": {
   "codemirror_mode": {
    "name": "ipython",
    "version": 3
   },
   "file_extension": ".py",
   "mimetype": "text/x-python",
   "name": "python",
   "nbconvert_exporter": "python",
   "pygments_lexer": "ipython3",
   "version": "3.9.7"
  }
 },
 "nbformat": 4,
 "nbformat_minor": 5
}
